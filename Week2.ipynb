{
  "nbformat": 4,
  "nbformat_minor": 0,
  "metadata": {
    "colab": {
      "provenance": [],
      "authorship_tag": "ABX9TyNJ+uc1RpqIQ5z/B978t9yv",
      "include_colab_link": true
    },
    "kernelspec": {
      "name": "python3",
      "display_name": "Python 3"
    },
    "language_info": {
      "name": "python"
    }
  },
  "cells": [
    {
      "cell_type": "markdown",
      "metadata": {
        "id": "view-in-github",
        "colab_type": "text"
      },
      "source": [
        "<a href=\"https://colab.research.google.com/github/VyshnaviGodisela/Internship/blob/main/Week2.ipynb\" target=\"_parent\"><img src=\"https://colab.research.google.com/assets/colab-badge.svg\" alt=\"Open In Colab\"/></a>"
      ]
    },
    {
      "cell_type": "code",
      "source": [
        "def start_game():\n",
        "  \"\"\"Starts the game.\"\"\"\n",
        "  print(\"You wake up in a dark forest.\")\n",
        "  print(\"You hear a rustling in the bushes.\")\n",
        "  print(\"What do you do?\")\n",
        "  choice = input(\"> \").lower()\n",
        "  if choice == \"look around\":\n",
        "    print(\"You see a path leading deeper into the forest.\")\n",
        "  elif choice == \"investigate the noise\":\n",
        "    print(\"You find a small, scared animal.\")\n",
        "    print(\"It scampers away into the darkness.\")\n",
        "  else:\n",
        "    print(\"I don't understand what you mean.\")\n",
        "  play_again()\n",
        "\n",
        "def play_again():\n",
        "  \"\"\"Asks the player if they want to play again.\"\"\"\n",
        "  choice = input(\"Do you want to play again? (y/n) \").lower()\n",
        "  if choice == \"y\":\n",
        "    start_game()\n",
        "  else:\n",
        "    print(\"Thanks for playing!\")\n",
        "\n",
        "start_game()"
      ],
      "metadata": {
        "colab": {
          "base_uri": "https://localhost:8080/"
        },
        "id": "dTJEoyz_u5wJ",
        "outputId": "1b72f24f-dfe8-489c-edc5-642419e1c66a"
      },
      "execution_count": null,
      "outputs": [
        {
          "output_type": "stream",
          "name": "stdout",
          "text": [
            "You wake up in a dark forest.\n",
            "You hear a rustling in the bushes.\n",
            "What do you do?\n"
          ]
        }
      ]
    }
  ]
}