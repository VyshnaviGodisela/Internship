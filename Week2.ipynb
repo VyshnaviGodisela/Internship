{
  "nbformat": 4,
  "nbformat_minor": 0,
  "metadata": {
    "colab": {
      "provenance": [],
      "authorship_tag": "ABX9TyPG28eXC4XHKfRTUkgCnEXm",
      "include_colab_link": true
    },
    "kernelspec": {
      "name": "python3",
      "display_name": "Python 3"
    },
    "language_info": {
      "name": "python"
    }
  },
  "cells": [
    {
      "cell_type": "markdown",
      "metadata": {
        "id": "view-in-github",
        "colab_type": "text"
      },
      "source": [
        "<a href=\"https://colab.research.google.com/github/VyshnaviGodisela/Internship/blob/main/Week2.ipynb\" target=\"_parent\"><img src=\"https://colab.research.google.com/assets/colab-badge.svg\" alt=\"Open In Colab\"/></a>"
      ]
    },
    {
      "cell_type": "code",
      "execution_count": null,
      "metadata": {
        "id": "zMntVEBut8XU"
      },
      "outputs": [],
      "source": [
        "\n",
        "\n",
        "# Initialize player's location\n",
        "current_room = \"start\"\n",
        "\n",
        "# Game loop\n",
        "while True:\n",
        "    # Display current room description\n",
        "    if current_room == \"start\":\n",
        "        print(\"You are in a dark room. There are two doors in front of you.\")\n",
        "        print(\"Which door do you choose? (1 or 2)\")\n",
        "\n",
        "        # Get user input\n",
        "        choice = input(\"> \")\n",
        "\n",
        "        # Update player's location based on choice\n",
        "        if choice == \"1\":\n",
        "            current_room = \"treasure\"\n",
        "        elif choice == \"2\":\n",
        "            current_room = \"monster\"\n",
        "        else:\n",
        "            print(\"Invalid choice. Try again.\")\n",
        "\n",
        "    elif current_room == \"treasure\":\n",
        "        print(\"Congratulations! You found the treasure. You win!\")\n",
        "        break\n",
        "\n",
        "    elif current_room == \"monster\":\n",
        "        print(\"Oh no! A monster ate you. Game over!\")\n",
        "        break\n",
        "\n",
        "    else:\n",
        "        print(\"Invalid room. Something went wrong.\")\n",
        "        break\n"
      ]
    },
    {
      "cell_type": "code",
      "source": [
        "def start_game():\n",
        "  \"\"\"Starts the game.\"\"\"\n",
        "  print(\"You wake up in a dark forest.\")\n",
        "  print(\"You hear a rustling in the bushes.\")\n",
        "  print(\"What do you do?\")\n",
        "  choice = input(\"> \").lower()\n",
        "  if choice == \"look around\":\n",
        "    print(\"You see a path leading deeper into the forest.\")\n",
        "  elif choice == \"investigate the noise\":\n",
        "    print(\"You find a small, scared animal.\")\n",
        "    print(\"It scampers away into the darkness.\")\n",
        "  else:\n",
        "    print(\"I don't understand what you mean.\")\n",
        "  play_again()\n",
        "\n",
        "def play_again():\n",
        "  \"\"\"Asks the player if they want to play again.\"\"\"\n",
        "  choice = input(\"Do you want to play again? (y/n) \").lower()\n",
        "  if choice == \"y\":\n",
        "    start_game()\n",
        "  else:\n",
        "    print(\"Thanks for playing!\")\n",
        "\n",
        "start_game()"
      ],
      "metadata": {
        "colab": {
          "base_uri": "https://localhost:8080/"
        },
        "id": "dTJEoyz_u5wJ",
        "outputId": "1b72f24f-dfe8-489c-edc5-642419e1c66a"
      },
      "execution_count": null,
      "outputs": [
        {
          "output_type": "stream",
          "name": "stdout",
          "text": [
            "You wake up in a dark forest.\n",
            "You hear a rustling in the bushes.\n",
            "What do you do?\n"
          ]
        }
      ]
    }
  ]
}